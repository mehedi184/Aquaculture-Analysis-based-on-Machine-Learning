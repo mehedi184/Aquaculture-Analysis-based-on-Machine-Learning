{
  "nbformat": 4,
  "nbformat_minor": 0,
  "metadata": {
    "kernelspec": {
      "display_name": "Python 3",
      "language": "python",
      "name": "python3"
    },
    "language_info": {
      "codemirror_mode": {
        "name": "ipython",
        "version": 3
      },
      "file_extension": ".py",
      "mimetype": "text/x-python",
      "name": "python",
      "nbconvert_exporter": "python",
      "pygments_lexer": "ipython3",
      "version": "3.7.1"
    },
    "colab": {
      "name": "LR fish.ipynb",
      "provenance": []
    }
  },
  "cells": [
    {
      "cell_type": "code",
      "metadata": {
        "id": "RuiA6bNDeGag"
      },
      "source": [
        "import pandas as pda\n",
        "import numpy as np\n",
        "from sklearn.linear_model import LinearRegression\n",
        "import matplotlib.pyplot as plt"
      ],
      "execution_count": null,
      "outputs": []
    },
    {
      "cell_type": "markdown",
      "metadata": {
        "id": "_gS6lDU4eGal"
      },
      "source": [
        "# Reading dataset"
      ]
    },
    {
      "cell_type": "code",
      "metadata": {
        "id": "7RMBKU1neGam"
      },
      "source": [
        "df = pda.read_csv('https://raw.githubusercontent.com/nayeem01/oxygen_level_prediction_sarima/master/data.csv')"
      ],
      "execution_count": null,
      "outputs": []
    },
    {
      "cell_type": "code",
      "metadata": {
        "id": "5p1iv4bheGar",
        "colab": {
          "base_uri": "https://localhost:8080/",
          "height": 334
        },
        "outputId": "df4c7b22-38e7-480c-be13-3f1579b5bc17"
      },
      "source": [
        "df.describe()"
      ],
      "execution_count": null,
      "outputs": [
        {
          "output_type": "execute_result",
          "data": {
            "text/html": [
              "<div>\n",
              "<style scoped>\n",
              "    .dataframe tbody tr th:only-of-type {\n",
              "        vertical-align: middle;\n",
              "    }\n",
              "\n",
              "    .dataframe tbody tr th {\n",
              "        vertical-align: top;\n",
              "    }\n",
              "\n",
              "    .dataframe thead th {\n",
              "        text-align: right;\n",
              "    }\n",
              "</style>\n",
              "<table border=\"1\" class=\"dataframe\">\n",
              "  <thead>\n",
              "    <tr style=\"text-align: right;\">\n",
              "      <th></th>\n",
              "      <th>temp</th>\n",
              "      <th>spcond (ms/cm)</th>\n",
              "      <th>ph</th>\n",
              "      <th>Ox</th>\n",
              "      <th>do_persent</th>\n",
              "      <th>turbidity</th>\n",
              "      <th>chlorophyll</th>\n",
              "      <th>phycocyanin</th>\n",
              "      <th>sysbattery</th>\n",
              "    </tr>\n",
              "  </thead>\n",
              "  <tbody>\n",
              "    <tr>\n",
              "      <th>count</th>\n",
              "      <td>11858.000000</td>\n",
              "      <td>11858.000000</td>\n",
              "      <td>11858.000000</td>\n",
              "      <td>11858.000000</td>\n",
              "      <td>11858.000000</td>\n",
              "      <td>11858.000000</td>\n",
              "      <td>11858.000000</td>\n",
              "      <td>11858.000000</td>\n",
              "      <td>11858.000000</td>\n",
              "    </tr>\n",
              "    <tr>\n",
              "      <th>mean</th>\n",
              "      <td>20.941906</td>\n",
              "      <td>1.510206</td>\n",
              "      <td>7.860956</td>\n",
              "      <td>9.126104</td>\n",
              "      <td>102.881943</td>\n",
              "      <td>2.449129</td>\n",
              "      <td>2.076148</td>\n",
              "      <td>0.940625</td>\n",
              "      <td>12.253828</td>\n",
              "    </tr>\n",
              "    <tr>\n",
              "      <th>std</th>\n",
              "      <td>3.233775</td>\n",
              "      <td>0.558131</td>\n",
              "      <td>0.562303</td>\n",
              "      <td>1.510925</td>\n",
              "      <td>19.087482</td>\n",
              "      <td>3.549913</td>\n",
              "      <td>1.057412</td>\n",
              "      <td>0.673713</td>\n",
              "      <td>0.544124</td>\n",
              "    </tr>\n",
              "    <tr>\n",
              "      <th>min</th>\n",
              "      <td>13.420000</td>\n",
              "      <td>0.690000</td>\n",
              "      <td>6.820000</td>\n",
              "      <td>5.580000</td>\n",
              "      <td>58.430000</td>\n",
              "      <td>-1.630000</td>\n",
              "      <td>0.630000</td>\n",
              "      <td>0.140000</td>\n",
              "      <td>6.500000</td>\n",
              "    </tr>\n",
              "    <tr>\n",
              "      <th>25%</th>\n",
              "      <td>18.490000</td>\n",
              "      <td>0.990000</td>\n",
              "      <td>7.330000</td>\n",
              "      <td>8.170000</td>\n",
              "      <td>88.790000</td>\n",
              "      <td>1.840000</td>\n",
              "      <td>1.410000</td>\n",
              "      <td>0.470000</td>\n",
              "      <td>12.030000</td>\n",
              "    </tr>\n",
              "    <tr>\n",
              "      <th>50%</th>\n",
              "      <td>21.060000</td>\n",
              "      <td>1.590000</td>\n",
              "      <td>7.870000</td>\n",
              "      <td>9.250000</td>\n",
              "      <td>103.860000</td>\n",
              "      <td>2.220000</td>\n",
              "      <td>1.790000</td>\n",
              "      <td>0.850000</td>\n",
              "      <td>12.320000</td>\n",
              "    </tr>\n",
              "    <tr>\n",
              "      <th>75%</th>\n",
              "      <td>23.720000</td>\n",
              "      <td>2.000000</td>\n",
              "      <td>8.300000</td>\n",
              "      <td>10.100000</td>\n",
              "      <td>114.450000</td>\n",
              "      <td>2.740000</td>\n",
              "      <td>2.360000</td>\n",
              "      <td>1.190000</td>\n",
              "      <td>12.550000</td>\n",
              "    </tr>\n",
              "    <tr>\n",
              "      <th>max</th>\n",
              "      <td>28.830000</td>\n",
              "      <td>2.560000</td>\n",
              "      <td>9.390000</td>\n",
              "      <td>14.390000</td>\n",
              "      <td>174.310000</td>\n",
              "      <td>279.660000</td>\n",
              "      <td>14.670000</td>\n",
              "      <td>10.890000</td>\n",
              "      <td>13.560000</td>\n",
              "    </tr>\n",
              "  </tbody>\n",
              "</table>\n",
              "</div>"
            ],
            "text/plain": [
              "              temp   spcond (ms/cm)  ...  phycocyanin     sysbattery\n",
              "count  11858.000000    11858.000000  ...  11858.000000  11858.000000\n",
              "mean      20.941906        1.510206  ...      0.940625     12.253828\n",
              "std        3.233775        0.558131  ...      0.673713      0.544124\n",
              "min       13.420000        0.690000  ...      0.140000      6.500000\n",
              "25%       18.490000        0.990000  ...      0.470000     12.030000\n",
              "50%       21.060000        1.590000  ...      0.850000     12.320000\n",
              "75%       23.720000        2.000000  ...      1.190000     12.550000\n",
              "max       28.830000        2.560000  ...     10.890000     13.560000\n",
              "\n",
              "[8 rows x 9 columns]"
            ]
          },
          "metadata": {
            "tags": []
          },
          "execution_count": 23
        }
      ]
    },
    {
      "cell_type": "markdown",
      "metadata": {
        "id": "gBGJSOJOeGat"
      },
      "source": [
        "# Cheacking correlation is in -1 to 1"
      ]
    },
    {
      "cell_type": "code",
      "metadata": {
        "id": "OE5pNtPmeGau",
        "colab": {
          "base_uri": "https://localhost:8080/",
          "height": 328
        },
        "outputId": "0401862e-f09e-4468-e243-1b423aaf18da"
      },
      "source": [
        "df.corr()"
      ],
      "execution_count": null,
      "outputs": [
        {
          "output_type": "execute_result",
          "data": {
            "text/html": [
              "<div>\n",
              "<style scoped>\n",
              "    .dataframe tbody tr th:only-of-type {\n",
              "        vertical-align: middle;\n",
              "    }\n",
              "\n",
              "    .dataframe tbody tr th {\n",
              "        vertical-align: top;\n",
              "    }\n",
              "\n",
              "    .dataframe thead th {\n",
              "        text-align: right;\n",
              "    }\n",
              "</style>\n",
              "<table border=\"1\" class=\"dataframe\">\n",
              "  <thead>\n",
              "    <tr style=\"text-align: right;\">\n",
              "      <th></th>\n",
              "      <th>temp</th>\n",
              "      <th>spcond (ms/cm)</th>\n",
              "      <th>ph</th>\n",
              "      <th>Ox</th>\n",
              "      <th>do_persent</th>\n",
              "      <th>turbidity</th>\n",
              "      <th>chlorophyll</th>\n",
              "      <th>phycocyanin</th>\n",
              "      <th>sysbattery</th>\n",
              "    </tr>\n",
              "  </thead>\n",
              "  <tbody>\n",
              "    <tr>\n",
              "      <th>temp</th>\n",
              "      <td>1.000000</td>\n",
              "      <td>-0.309181</td>\n",
              "      <td>0.377783</td>\n",
              "      <td>0.121258</td>\n",
              "      <td>0.446837</td>\n",
              "      <td>-0.013292</td>\n",
              "      <td>-0.220220</td>\n",
              "      <td>0.180565</td>\n",
              "      <td>0.553171</td>\n",
              "    </tr>\n",
              "    <tr>\n",
              "      <th>spcond (ms/cm)</th>\n",
              "      <td>-0.309181</td>\n",
              "      <td>1.000000</td>\n",
              "      <td>0.293552</td>\n",
              "      <td>0.313457</td>\n",
              "      <td>0.156739</td>\n",
              "      <td>0.021905</td>\n",
              "      <td>0.420438</td>\n",
              "      <td>0.107436</td>\n",
              "      <td>-0.065153</td>\n",
              "    </tr>\n",
              "    <tr>\n",
              "      <th>ph</th>\n",
              "      <td>0.377783</td>\n",
              "      <td>0.293552</td>\n",
              "      <td>1.000000</td>\n",
              "      <td>0.920925</td>\n",
              "      <td>0.955451</td>\n",
              "      <td>0.256044</td>\n",
              "      <td>0.403227</td>\n",
              "      <td>0.676690</td>\n",
              "      <td>0.350102</td>\n",
              "    </tr>\n",
              "    <tr>\n",
              "      <th>Ox</th>\n",
              "      <td>0.121258</td>\n",
              "      <td>0.313457</td>\n",
              "      <td>0.920925</td>\n",
              "      <td>1.000000</td>\n",
              "      <td>0.940846</td>\n",
              "      <td>0.289516</td>\n",
              "      <td>0.520148</td>\n",
              "      <td>0.668493</td>\n",
              "      <td>0.258131</td>\n",
              "    </tr>\n",
              "    <tr>\n",
              "      <th>do_persent</th>\n",
              "      <td>0.446837</td>\n",
              "      <td>0.156739</td>\n",
              "      <td>0.955451</td>\n",
              "      <td>0.940846</td>\n",
              "      <td>1.000000</td>\n",
              "      <td>0.266441</td>\n",
              "      <td>0.391506</td>\n",
              "      <td>0.669557</td>\n",
              "      <td>0.411199</td>\n",
              "    </tr>\n",
              "    <tr>\n",
              "      <th>turbidity</th>\n",
              "      <td>-0.013292</td>\n",
              "      <td>0.021905</td>\n",
              "      <td>0.256044</td>\n",
              "      <td>0.289516</td>\n",
              "      <td>0.266441</td>\n",
              "      <td>1.000000</td>\n",
              "      <td>0.047239</td>\n",
              "      <td>0.475749</td>\n",
              "      <td>0.042479</td>\n",
              "    </tr>\n",
              "    <tr>\n",
              "      <th>chlorophyll</th>\n",
              "      <td>-0.220220</td>\n",
              "      <td>0.420438</td>\n",
              "      <td>0.403227</td>\n",
              "      <td>0.520148</td>\n",
              "      <td>0.391506</td>\n",
              "      <td>0.047239</td>\n",
              "      <td>1.000000</td>\n",
              "      <td>0.222894</td>\n",
              "      <td>-0.223883</td>\n",
              "    </tr>\n",
              "    <tr>\n",
              "      <th>phycocyanin</th>\n",
              "      <td>0.180565</td>\n",
              "      <td>0.107436</td>\n",
              "      <td>0.676690</td>\n",
              "      <td>0.668493</td>\n",
              "      <td>0.669557</td>\n",
              "      <td>0.475749</td>\n",
              "      <td>0.222894</td>\n",
              "      <td>1.000000</td>\n",
              "      <td>0.173038</td>\n",
              "    </tr>\n",
              "    <tr>\n",
              "      <th>sysbattery</th>\n",
              "      <td>0.553171</td>\n",
              "      <td>-0.065153</td>\n",
              "      <td>0.350102</td>\n",
              "      <td>0.258131</td>\n",
              "      <td>0.411199</td>\n",
              "      <td>0.042479</td>\n",
              "      <td>-0.223883</td>\n",
              "      <td>0.173038</td>\n",
              "      <td>1.000000</td>\n",
              "    </tr>\n",
              "  </tbody>\n",
              "</table>\n",
              "</div>"
            ],
            "text/plain": [
              "                   temp   spcond (ms/cm)  ...  phycocyanin   sysbattery\n",
              "temp            1.000000       -0.309181  ...      0.180565    0.553171\n",
              "spcond (ms/cm) -0.309181        1.000000  ...      0.107436   -0.065153\n",
              "ph              0.377783        0.293552  ...      0.676690    0.350102\n",
              "Ox              0.121258        0.313457  ...      0.668493    0.258131\n",
              "do_persent      0.446837        0.156739  ...      0.669557    0.411199\n",
              "turbidity      -0.013292        0.021905  ...      0.475749    0.042479\n",
              "chlorophyll    -0.220220        0.420438  ...      0.222894   -0.223883\n",
              "phycocyanin     0.180565        0.107436  ...      1.000000    0.173038\n",
              "sysbattery      0.553171       -0.065153  ...      0.173038    1.000000\n",
              "\n",
              "[9 rows x 9 columns]"
            ]
          },
          "metadata": {
            "tags": []
          },
          "execution_count": 24
        }
      ]
    },
    {
      "cell_type": "markdown",
      "metadata": {
        "id": "ho0WqzGieGau"
      },
      "source": [
        "# Ploting ph as x-axis and oxygen as y-axis"
      ]
    },
    {
      "cell_type": "code",
      "metadata": {
        "id": "9EGwZk8CeGav",
        "colab": {
          "base_uri": "https://localhost:8080/",
          "height": 296
        },
        "outputId": "244b6136-511c-41c0-babb-68fdad32e709"
      },
      "source": [
        "%matplotlib inline\n",
        "plt.xlabel('pH')\n",
        "plt.ylabel('Oxygen')\n",
        "plt.scatter(df.ph,df.Ox,color='red',marker='+')"
      ],
      "execution_count": null,
      "outputs": [
        {
          "output_type": "execute_result",
          "data": {
            "text/plain": [
              "<matplotlib.collections.PathCollection at 0x7f93342dd8d0>"
            ]
          },
          "metadata": {
            "tags": []
          },
          "execution_count": 25
        },
        {
          "output_type": "display_data",
          "data": {
            "image/png": "[encoded data removed]",
            "text/plain": [
              "<Figure size 432x288 with 1 Axes>"
            ]
          },
          "metadata": {
            "tags": [],
            "needs_background": "light"
          }
        }
      ]
    },
    {
      "cell_type": "markdown",
      "metadata": {
        "id": "fBnIB5mreGaw"
      },
      "source": [
        "# Data training "
      ]
    },
    {
      "cell_type": "code",
      "metadata": {
        "id": "o6gmmH1BeGax",
        "colab": {
          "base_uri": "https://localhost:8080/"
        },
        "outputId": "be1f75cb-f05a-4805-9406-6fdb0088f5fb"
      },
      "source": [
        "ph = df[['ph']]\n",
        "ox = df[['Ox']]\n",
        "from sklearn.model_selection import train_test_split\n",
        "X = ph\n",
        "y = ox\n",
        "X_train, X_test, y_train, y_test = train_test_split(X, y, test_size=0.25, random_state=1)\n",
        "lm = LinearRegression()\n",
        "lm.fit(ph,ox)"
      ],
      "execution_count": null,
      "outputs": [
        {
          "output_type": "execute_result",
          "data": {
            "text/plain": [
              "LinearRegression(copy_X=True, fit_intercept=True, n_jobs=None, normalize=False)"
            ]
          },
          "metadata": {
            "tags": []
          },
          "execution_count": 26
        }
      ]
    },
    {
      "cell_type": "markdown",
      "metadata": {
        "id": "hZbBfek1eGay"
      },
      "source": [
        "# testing our model"
      ]
    },
    {
      "cell_type": "code",
      "metadata": {
        "id": "hVHVk5gneGaz",
        "colab": {
          "base_uri": "https://localhost:8080/"
        },
        "outputId": "553ede4e-6b3b-430a-9677-63b0838f97ec"
      },
      "source": [
        "lm.predict([[7.14]])"
      ],
      "execution_count": null,
      "outputs": [
        {
          "output_type": "execute_result",
          "data": {
            "text/plain": [
              "array([[7.3420602]])"
            ]
          },
          "metadata": {
            "tags": []
          },
          "execution_count": 27
        }
      ]
    },
    {
      "cell_type": "markdown",
      "metadata": {
        "id": "oBfoYuuweGa0"
      },
      "source": [
        "# plotting pH value and predicted Oxygen value \n",
        "# shape is Y(dissolved_oxygen)= mx(ph)+c"
      ]
    },
    {
      "cell_type": "code",
      "metadata": {
        "id": "uls9K-vveGa1",
        "colab": {
          "base_uri": "https://localhost:8080/",
          "height": 305
        },
        "outputId": "2e45ecf8-1ba2-4981-f6f5-313f82a53308"
      },
      "source": [
        "%matplotlib inline\n",
        "plt.xlabel('pH', fontsize=20)\n",
        "plt.ylabel('Oxygen', fontsize=20)\n",
        "plt.scatter(df.ph,df.Ox,color='red',marker='+')\n",
        "plt.plot(df.ph,lm.predict(ph),color='blue')"
      ],
      "execution_count": null,
      "outputs": [
        {
          "output_type": "execute_result",
          "data": {
            "text/plain": [
              "[<matplotlib.lines.Line2D at 0x7f933452b5d0>]"
            ]
          },
          "metadata": {
            "tags": []
          },
          "execution_count": 28
        },
        {
          "output_type": "display_data",
          "data": {
            "image/png": "[encoded data removed]",
            "text/plain": [
              "<Figure size 432x288 with 1 Axes>"
            ]
          },
          "metadata": {
            "tags": [],
            "needs_background": "light"
          }
        }
      ]
    },
    {
      "cell_type": "markdown",
      "metadata": {
        "id": "Roy-SDfkeGa1"
      },
      "source": [
        "# Reading input pH value from csv file"
      ]
    },
    {
      "cell_type": "code",
      "metadata": {
        "id": "4rknE5CWeGa2",
        "colab": {
          "base_uri": "https://localhost:8080/",
          "height": 173
        },
        "outputId": "9ab24634-cb1e-4fed-db29-bd2274c07fb6"
      },
      "source": [
        "test = pda.read_csv(\"/content/sample_data/test.csv\")\n",
        "test.head(5)"
      ],
      "execution_count": null,
      "outputs": [
        {
          "output_type": "execute_result",
          "data": {
            "text/html": [
              "<div>\n",
              "<style scoped>\n",
              "    .dataframe tbody tr th:only-of-type {\n",
              "        vertical-align: middle;\n",
              "    }\n",
              "\n",
              "    .dataframe tbody tr th {\n",
              "        vertical-align: top;\n",
              "    }\n",
              "\n",
              "    .dataframe thead th {\n",
              "        text-align: right;\n",
              "    }\n",
              "</style>\n",
              "<table border=\"1\" class=\"dataframe\">\n",
              "  <thead>\n",
              "    <tr style=\"text-align: right;\">\n",
              "      <th></th>\n",
              "      <th>ph</th>\n",
              "    </tr>\n",
              "  </thead>\n",
              "  <tbody>\n",
              "    <tr>\n",
              "      <th>0</th>\n",
              "      <td>6.98</td>\n",
              "    </tr>\n",
              "    <tr>\n",
              "      <th>1</th>\n",
              "      <td>6.83</td>\n",
              "    </tr>\n",
              "    <tr>\n",
              "      <th>2</th>\n",
              "      <td>6.88</td>\n",
              "    </tr>\n",
              "    <tr>\n",
              "      <th>3</th>\n",
              "      <td>6.61</td>\n",
              "    </tr>\n",
              "  </tbody>\n",
              "</table>\n",
              "</div>"
            ],
            "text/plain": [
              "     ph\n",
              "0  6.98\n",
              "1  6.83\n",
              "2  6.88\n",
              "3  6.61"
            ]
          },
          "metadata": {
            "tags": []
          },
          "execution_count": 29
        }
      ]
    },
    {
      "cell_type": "markdown",
      "metadata": {
        "id": "npMai8iYeGa2"
      },
      "source": [
        "# Predicting output as Oxygen"
      ]
    },
    {
      "cell_type": "code",
      "metadata": {
        "id": "hPdD52BMeGa2",
        "colab": {
          "base_uri": "https://localhost:8080/"
        },
        "outputId": "70f79d8d-d74c-4c8f-ae86-9d4386ca3ffb"
      },
      "source": [
        "p = lm.predict(test)\n",
        "p"
      ],
      "execution_count": null,
      "outputs": [
        {
          "output_type": "execute_result",
          "data": {
            "text/plain": [
              "array([[6.94613193],\n",
              "       [6.57494917],\n",
              "       [6.69867675],\n",
              "       [6.03054779]])"
            ]
          },
          "metadata": {
            "tags": []
          },
          "execution_count": 30
        }
      ]
    },
    {
      "cell_type": "markdown",
      "metadata": {
        "id": "_y57KJ5heGa3"
      },
      "source": [
        "# Calculating accuracy using R-squared statistic "
      ]
    },
    {
      "cell_type": "code",
      "metadata": {
        "id": "QWyvWu-ceGa9",
        "colab": {
          "base_uri": "https://localhost:8080/"
        },
        "outputId": "afcb3cb7-f52a-4ba1-9a66-effa52aac57f"
      },
      "source": [
        "accuracy = lm.score(X_test, y_test)\n",
        "print (accuracy)\n",
        "print(accuracy*100)"
      ],
      "execution_count": null,
      "outputs": [
        {
          "output_type": "stream",
          "text": [
            "0.8430215710800057\n",
            "84.30215710800057\n"
          ],
          "name": "stdout"
        }
      ]
    },
    {
      "cell_type": "markdown",
      "metadata": {
        "id": "UeVNvTqAU0Li"
      },
      "source": [
        "#validation"
      ]
    },
    {
      "cell_type": "code",
      "metadata": {
        "id": "cwOaEj1iPcPL"
      },
      "source": [
        "from sklearn.model_selection import validation_curve\n",
        "from sklearn.linear_model import Ridge"
      ],
      "execution_count": null,
      "outputs": []
    },
    {
      "cell_type": "code",
      "metadata": {
        "id": "kBd8GXud8LhB"
      },
      "source": [
        "random_state = 1\n",
        "param_range = np.logspace(-7,3,3)\n",
        "train_scores, valid_scores = validation_curve(Ridge(), X, y, \"alpha\",param_range,cv=5)"
      ],
      "execution_count": null,
      "outputs": []
    },
    {
      "cell_type": "code",
      "metadata": {
        "id": "NEaSOqxfPFai"
      },
      "source": [
        "train_scores_mean = np.mean(train_scores, axis=1)\n",
        "train_scores_std = np.std(train_scores, axis=1)\n",
        "valid_scores_mean = np.mean(valid_scores, axis=1)\n",
        "valid_scores_std = np.std(valid_scores, axis=1)"
      ],
      "execution_count": null,
      "outputs": []
    },
    {
      "cell_type": "code",
      "metadata": {
        "id": "O1SfjbaZTtS9",
        "colab": {
          "base_uri": "https://localhost:8080/",
          "height": 316
        },
        "outputId": "81df6131-9f33-4804-8727-8eb167cf2010"
      },
      "source": [
        "from google.colab import files\n",
        "plt.title(\"Validation Curve with Ridge\")\n",
        "plt.xlabel(r\"$\\alpha$\")\n",
        "plt.ylabel(\"Score\")\n",
        "plt.ylim(0.0, 1.1)\n",
        "lw = 2\n",
        "plt.semilogx(param_range, train_scores_mean, label=\"Training score\",color=\"darkorange\", lw=lw)\n",
        "plt.fill_between(param_range, train_scores_mean - train_scores_std,train_scores_mean + train_scores_std, alpha=0.2,color=\"darkorange\", lw=lw)\n",
        "plt.semilogx(param_range, valid_scores_mean, label=\"Cross-validation score\",color=\"navy\", lw=lw)\n",
        "plt.fill_between(param_range, valid_scores_mean - valid_scores_std,valid_scores_mean + valid_scores_std, alpha=0.2,color=\"navy\", lw=lw)\n",
        "plt.legend(loc=\"best\")\n",
        "plt.show()\n",
        "plt.savefig('plot3.jpg', dpi=300, bbox_inches='tight')\n",
        "files.download('plot3.jpg')"
      ],
      "execution_count": null,
      "outputs": [
        {
          "output_type": "display_data",
          "data": {
            "image/png": "[encoded data removed]",
            "text/plain": [
              "<Figure size 432x288 with 1 Axes>"
            ]
          },
          "metadata": {
            "tags": [],
            "needs_background": "light"
          }
        },
        {
          "output_type": "display_data",
          "data": {
            "application/javascript": [
              "\n",
              "    async function download(id, filename, size) {\n",
              "      if (!google.colab.kernel.accessAllowed) {\n",
              "        return;\n",
              "      }\n",
              "      const div = document.createElement('div');\n",
              "      const label = document.createElement('label');\n",
              "      label.textContent = `Downloading \"${filename}\": `;\n",
              "      div.appendChild(label);\n",
              "      const progress = document.createElement('progress');\n",
              "      progress.max = size;\n",
              "      div.appendChild(progress);\n",
              "      document.body.appendChild(div);\n",
              "\n",
              "      const buffers = [];\n",
              "      let downloaded = 0;\n",
              "\n",
              "      const channel = await google.colab.kernel.comms.open(id);\n",
              "      // Send a message to notify the kernel that we're ready.\n",
              "      channel.send({})\n",
              "\n",
              "      for await (const message of channel.messages) {\n",
              "        // Send a message to notify the kernel that we're ready.\n",
              "        channel.send({})\n",
              "        if (message.buffers) {\n",
              "          for (const buffer of message.buffers) {\n",
              "            buffers.push(buffer);\n",
              "            downloaded += buffer.byteLength;\n",
              "            progress.value = downloaded;\n",
              "          }\n",
              "        }\n",
              "      }\n",
              "      const blob = new Blob(buffers, {type: 'application/binary'});\n",
              "      const a = document.createElement('a');\n",
              "      a.href = window.URL.createObjectURL(blob);\n",
              "      a.download = filename;\n",
              "      div.appendChild(a);\n",
              "      a.click();\n",
              "      div.remove();\n",
              "    }\n",
              "  "
            ],
            "text/plain": [
              "<IPython.core.display.Javascript object>"
            ]
          },
          "metadata": {
            "tags": []
          }
        },
        {
          "output_type": "display_data",
          "data": {
            "application/javascript": [
              "download(\"download_3db9ed09-77dd-448f-911a-253fbccc78d4\", \"plot3.jpg\", 2571)"
            ],
            "text/plain": [
              "<IPython.core.display.Javascript object>"
            ]
          },
          "metadata": {
            "tags": []
          }
        },
        {
          "output_type": "display_data",
          "data": {
            "text/plain": [
              "<Figure size 432x288 with 0 Axes>"
            ]
          },
          "metadata": {
            "tags": []
          }
        }
      ]
    },
    {
      "cell_type": "code",
      "metadata": {
        "colab": {
          "base_uri": "https://localhost:8080/",
          "height": 286
        },
        "id": "-XT_6vrFwbiH",
        "outputId": "b1854281-e640-4491-cdb2-a1ed43e7c837"
      },
      "source": [
        "# importing matplotlib modules\n",
        "import matplotlib.image as mpimg\n",
        "  \n",
        "# Read Images\n",
        "img = mpimg.imread('plot.png')\n",
        "  \n",
        "# Output Images\n",
        "plt.imshow(img)"
      ],
      "execution_count": null,
      "outputs": [
        {
          "output_type": "execute_result",
          "data": {
            "text/plain": [
              "<matplotlib.image.AxesImage at 0x7f932ad06ed0>"
            ]
          },
          "metadata": {
            "tags": []
          },
          "execution_count": 42
        },
        {
          "output_type": "display_data",
          "data": {
            "image/png": "[encoded data removed]",
            "text/plain": [
              "<Figure size 432x288 with 1 Axes>"
            ]
          },
          "metadata": {
            "tags": [],
            "needs_background": "light"
          }
        }
      ]
    }
  ]
}