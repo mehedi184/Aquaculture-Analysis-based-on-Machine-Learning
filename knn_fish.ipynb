{
  "nbformat": 4,
  "nbformat_minor": 0,
  "metadata": {
    "colab": {
      "name": "knn fish.ipynb",
      "provenance": []
    },
    "kernelspec": {
      "name": "python3",
      "display_name": "Python 3"
    },
    "language_info": {
      "name": "python"
    }
  },
  "cells": [
    {
      "cell_type": "code",
      "metadata": {
        "id": "cuiME1gq30Vf"
      },
      "source": [
        "import pandas as pd\n",
        "import seaborn as sns\n",
        "import matplotlib.pyplot as plt\n",
        "import numpy as np\n",
        "%matplotlib inline\n",
        "from sklearn.preprocessing import StandardScaler\n",
        "import seaborn as sns\n",
        "import warnings\n",
        "warnings.filterwarnings('ignore')\n",
        "import math\n",
        "from google.colab import files\n"
      ],
      "execution_count": null,
      "outputs": []
    },
    {
      "cell_type": "markdown",
      "metadata": {
        "id": "4gmBbJv_ovAV"
      },
      "source": [
        "#Calling Dataset and Pre processing"
      ]
    },
    {
      "cell_type": "code",
      "metadata": {
        "id": "k5bm7oZWC8if"
      },
      "source": [
        "df = pd.read_csv('https://raw.githubusercontent.com/nayeem01/oxygen_level_prediction_sarima/master/data.csv')"
      ],
      "execution_count": null,
      "outputs": []
    },
    {
      "cell_type": "code",
      "metadata": {
        "colab": {
          "base_uri": "https://localhost:8080/",
          "height": 419
        },
        "id": "Rz2m1CIqFohp",
        "outputId": "8310755e-1ce6-48f0-ea30-9c319df0512a"
      },
      "source": [
        "df0=df\n",
        "df_mean = df0.mean()\n",
        "df=df0.replace(np.nan, df_mean)\n",
        "df"
      ],
      "execution_count": null,
      "outputs": [
        {
          "output_type": "execute_result",
          "data": {
            "text/html": [
              "<div>\n",
              "<style scoped>\n",
              "    .dataframe tbody tr th:only-of-type {\n",
              "        vertical-align: middle;\n",
              "    }\n",
              "\n",
              "    .dataframe tbody tr th {\n",
              "        vertical-align: top;\n",
              "    }\n",
              "\n",
              "    .dataframe thead th {\n",
              "        text-align: right;\n",
              "    }\n",
              "</style>\n",
              "<table border=\"1\" class=\"dataframe\">\n",
              "  <thead>\n",
              "    <tr style=\"text-align: right;\">\n",
              "      <th></th>\n",
              "      <th>date</th>\n",
              "      <th>time</th>\n",
              "      <th>temp</th>\n",
              "      <th>spcond (ms/cm)</th>\n",
              "      <th>ph</th>\n",
              "      <th>Ox</th>\n",
              "      <th>do_persent</th>\n",
              "      <th>turbidity</th>\n",
              "      <th>chlorophyll</th>\n",
              "      <th>phycocyanin</th>\n",
              "      <th>sysbattery</th>\n",
              "    </tr>\n",
              "  </thead>\n",
              "  <tbody>\n",
              "    <tr>\n",
              "      <th>0</th>\n",
              "      <td>5/11/2017</td>\n",
              "      <td>16:30:00</td>\n",
              "      <td>14.86</td>\n",
              "      <td>0.82</td>\n",
              "      <td>7.06</td>\n",
              "      <td>8.23</td>\n",
              "      <td>81.57</td>\n",
              "      <td>1.84</td>\n",
              "      <td>1.13</td>\n",
              "      <td>0.31</td>\n",
              "      <td>12.69</td>\n",
              "    </tr>\n",
              "    <tr>\n",
              "      <th>1</th>\n",
              "      <td>5/11/2017</td>\n",
              "      <td>16:45:00</td>\n",
              "      <td>14.89</td>\n",
              "      <td>0.82</td>\n",
              "      <td>7.06</td>\n",
              "      <td>8.23</td>\n",
              "      <td>81.66</td>\n",
              "      <td>1.81</td>\n",
              "      <td>1.12</td>\n",
              "      <td>0.29</td>\n",
              "      <td>12.56</td>\n",
              "    </tr>\n",
              "    <tr>\n",
              "      <th>2</th>\n",
              "      <td>5/11/2017</td>\n",
              "      <td>17:00:00</td>\n",
              "      <td>14.89</td>\n",
              "      <td>0.82</td>\n",
              "      <td>7.08</td>\n",
              "      <td>8.26</td>\n",
              "      <td>81.94</td>\n",
              "      <td>1.84</td>\n",
              "      <td>1.28</td>\n",
              "      <td>0.30</td>\n",
              "      <td>12.33</td>\n",
              "    </tr>\n",
              "    <tr>\n",
              "      <th>3</th>\n",
              "      <td>5/11/2017</td>\n",
              "      <td>17:15:00</td>\n",
              "      <td>14.79</td>\n",
              "      <td>0.82</td>\n",
              "      <td>7.10</td>\n",
              "      <td>8.23</td>\n",
              "      <td>81.39</td>\n",
              "      <td>1.93</td>\n",
              "      <td>1.22</td>\n",
              "      <td>0.31</td>\n",
              "      <td>12.27</td>\n",
              "    </tr>\n",
              "    <tr>\n",
              "      <th>4</th>\n",
              "      <td>5/11/2017</td>\n",
              "      <td>17:30:00</td>\n",
              "      <td>14.86</td>\n",
              "      <td>0.82</td>\n",
              "      <td>7.11</td>\n",
              "      <td>8.28</td>\n",
              "      <td>82.08</td>\n",
              "      <td>1.77</td>\n",
              "      <td>1.14</td>\n",
              "      <td>0.32</td>\n",
              "      <td>12.19</td>\n",
              "    </tr>\n",
              "    <tr>\n",
              "      <th>...</th>\n",
              "      <td>...</td>\n",
              "      <td>...</td>\n",
              "      <td>...</td>\n",
              "      <td>...</td>\n",
              "      <td>...</td>\n",
              "      <td>...</td>\n",
              "      <td>...</td>\n",
              "      <td>...</td>\n",
              "      <td>...</td>\n",
              "      <td>...</td>\n",
              "      <td>...</td>\n",
              "    </tr>\n",
              "    <tr>\n",
              "      <th>11853</th>\n",
              "      <td>10/31/2017</td>\n",
              "      <td>21:15:00</td>\n",
              "      <td>14.85</td>\n",
              "      <td>1.56</td>\n",
              "      <td>7.33</td>\n",
              "      <td>8.47</td>\n",
              "      <td>84.14</td>\n",
              "      <td>4.94</td>\n",
              "      <td>1.53</td>\n",
              "      <td>0.67</td>\n",
              "      <td>10.01</td>\n",
              "    </tr>\n",
              "    <tr>\n",
              "      <th>11854</th>\n",
              "      <td>10/31/2017</td>\n",
              "      <td>21:30:00</td>\n",
              "      <td>14.82</td>\n",
              "      <td>1.56</td>\n",
              "      <td>7.33</td>\n",
              "      <td>8.46</td>\n",
              "      <td>83.98</td>\n",
              "      <td>5.11</td>\n",
              "      <td>1.84</td>\n",
              "      <td>0.68</td>\n",
              "      <td>9.87</td>\n",
              "    </tr>\n",
              "    <tr>\n",
              "      <th>11855</th>\n",
              "      <td>10/31/2017</td>\n",
              "      <td>21:45:00</td>\n",
              "      <td>14.81</td>\n",
              "      <td>1.56</td>\n",
              "      <td>7.33</td>\n",
              "      <td>8.47</td>\n",
              "      <td>84.07</td>\n",
              "      <td>4.99</td>\n",
              "      <td>1.79</td>\n",
              "      <td>0.71</td>\n",
              "      <td>9.64</td>\n",
              "    </tr>\n",
              "    <tr>\n",
              "      <th>11856</th>\n",
              "      <td>10/31/2017</td>\n",
              "      <td>22:00:00</td>\n",
              "      <td>14.82</td>\n",
              "      <td>1.56</td>\n",
              "      <td>7.32</td>\n",
              "      <td>8.45</td>\n",
              "      <td>83.86</td>\n",
              "      <td>4.76</td>\n",
              "      <td>1.89</td>\n",
              "      <td>0.73</td>\n",
              "      <td>9.32</td>\n",
              "    </tr>\n",
              "    <tr>\n",
              "      <th>11857</th>\n",
              "      <td>10/31/2017</td>\n",
              "      <td>22:15:00</td>\n",
              "      <td>14.79</td>\n",
              "      <td>1.56</td>\n",
              "      <td>7.33</td>\n",
              "      <td>8.46</td>\n",
              "      <td>83.95</td>\n",
              "      <td>5.34</td>\n",
              "      <td>1.68</td>\n",
              "      <td>0.70</td>\n",
              "      <td>8.96</td>\n",
              "    </tr>\n",
              "  </tbody>\n",
              "</table>\n",
              "<p>11858 rows × 11 columns</p>\n",
              "</div>"
            ],
            "text/plain": [
              "             date      time  temp   ...  chlorophyll   phycocyanin   sysbattery\n",
              "0       5/11/2017  16:30:00  14.86  ...          1.13          0.31       12.69\n",
              "1       5/11/2017  16:45:00  14.89  ...          1.12          0.29       12.56\n",
              "2       5/11/2017  17:00:00  14.89  ...          1.28          0.30       12.33\n",
              "3       5/11/2017  17:15:00  14.79  ...          1.22          0.31       12.27\n",
              "4       5/11/2017  17:30:00  14.86  ...          1.14          0.32       12.19\n",
              "...           ...       ...    ...  ...           ...           ...         ...\n",
              "11853  10/31/2017  21:15:00  14.85  ...          1.53          0.67       10.01\n",
              "11854  10/31/2017  21:30:00  14.82  ...          1.84          0.68        9.87\n",
              "11855  10/31/2017  21:45:00  14.81  ...          1.79          0.71        9.64\n",
              "11856  10/31/2017  22:00:00  14.82  ...          1.89          0.73        9.32\n",
              "11857  10/31/2017  22:15:00  14.79  ...          1.68          0.70        8.96\n",
              "\n",
              "[11858 rows x 11 columns]"
            ]
          },
          "metadata": {
            "tags": []
          },
          "execution_count": 3
        }
      ]
    },
    {
      "cell_type": "code",
      "metadata": {
        "colab": {
          "base_uri": "https://localhost:8080/",
          "height": 334
        },
        "id": "Q6UZ5bhjGlUy",
        "outputId": "81bbdcce-3d45-43ff-e2cd-226c1802ac4b"
      },
      "source": [
        "df.describe()"
      ],
      "execution_count": null,
      "outputs": [
        {
          "output_type": "execute_result",
          "data": {
            "text/html": [
              "<div>\n",
              "<style scoped>\n",
              "    .dataframe tbody tr th:only-of-type {\n",
              "        vertical-align: middle;\n",
              "    }\n",
              "\n",
              "    .dataframe tbody tr th {\n",
              "        vertical-align: top;\n",
              "    }\n",
              "\n",
              "    .dataframe thead th {\n",
              "        text-align: right;\n",
              "    }\n",
              "</style>\n",
              "<table border=\"1\" class=\"dataframe\">\n",
              "  <thead>\n",
              "    <tr style=\"text-align: right;\">\n",
              "      <th></th>\n",
              "      <th>temp</th>\n",
              "      <th>spcond (ms/cm)</th>\n",
              "      <th>ph</th>\n",
              "      <th>Ox</th>\n",
              "      <th>do_persent</th>\n",
              "      <th>turbidity</th>\n",
              "      <th>chlorophyll</th>\n",
              "      <th>phycocyanin</th>\n",
              "      <th>sysbattery</th>\n",
              "    </tr>\n",
              "  </thead>\n",
              "  <tbody>\n",
              "    <tr>\n",
              "      <th>count</th>\n",
              "      <td>11858.000000</td>\n",
              "      <td>11858.000000</td>\n",
              "      <td>11858.000000</td>\n",
              "      <td>11858.000000</td>\n",
              "      <td>11858.000000</td>\n",
              "      <td>11858.000000</td>\n",
              "      <td>11858.000000</td>\n",
              "      <td>11858.000000</td>\n",
              "      <td>11858.000000</td>\n",
              "    </tr>\n",
              "    <tr>\n",
              "      <th>mean</th>\n",
              "      <td>20.941906</td>\n",
              "      <td>1.510206</td>\n",
              "      <td>7.860956</td>\n",
              "      <td>9.126104</td>\n",
              "      <td>102.881943</td>\n",
              "      <td>2.449129</td>\n",
              "      <td>2.076148</td>\n",
              "      <td>0.940625</td>\n",
              "      <td>12.253828</td>\n",
              "    </tr>\n",
              "    <tr>\n",
              "      <th>std</th>\n",
              "      <td>3.233775</td>\n",
              "      <td>0.558131</td>\n",
              "      <td>0.562303</td>\n",
              "      <td>1.510925</td>\n",
              "      <td>19.087482</td>\n",
              "      <td>3.549913</td>\n",
              "      <td>1.057412</td>\n",
              "      <td>0.673713</td>\n",
              "      <td>0.544124</td>\n",
              "    </tr>\n",
              "    <tr>\n",
              "      <th>min</th>\n",
              "      <td>13.420000</td>\n",
              "      <td>0.690000</td>\n",
              "      <td>6.820000</td>\n",
              "      <td>5.580000</td>\n",
              "      <td>58.430000</td>\n",
              "      <td>-1.630000</td>\n",
              "      <td>0.630000</td>\n",
              "      <td>0.140000</td>\n",
              "      <td>6.500000</td>\n",
              "    </tr>\n",
              "    <tr>\n",
              "      <th>25%</th>\n",
              "      <td>18.490000</td>\n",
              "      <td>0.990000</td>\n",
              "      <td>7.330000</td>\n",
              "      <td>8.170000</td>\n",
              "      <td>88.790000</td>\n",
              "      <td>1.840000</td>\n",
              "      <td>1.410000</td>\n",
              "      <td>0.470000</td>\n",
              "      <td>12.030000</td>\n",
              "    </tr>\n",
              "    <tr>\n",
              "      <th>50%</th>\n",
              "      <td>21.060000</td>\n",
              "      <td>1.590000</td>\n",
              "      <td>7.870000</td>\n",
              "      <td>9.250000</td>\n",
              "      <td>103.860000</td>\n",
              "      <td>2.220000</td>\n",
              "      <td>1.790000</td>\n",
              "      <td>0.850000</td>\n",
              "      <td>12.320000</td>\n",
              "    </tr>\n",
              "    <tr>\n",
              "      <th>75%</th>\n",
              "      <td>23.720000</td>\n",
              "      <td>2.000000</td>\n",
              "      <td>8.300000</td>\n",
              "      <td>10.100000</td>\n",
              "      <td>114.450000</td>\n",
              "      <td>2.740000</td>\n",
              "      <td>2.360000</td>\n",
              "      <td>1.190000</td>\n",
              "      <td>12.550000</td>\n",
              "    </tr>\n",
              "    <tr>\n",
              "      <th>max</th>\n",
              "      <td>28.830000</td>\n",
              "      <td>2.560000</td>\n",
              "      <td>9.390000</td>\n",
              "      <td>14.390000</td>\n",
              "      <td>174.310000</td>\n",
              "      <td>279.660000</td>\n",
              "      <td>14.670000</td>\n",
              "      <td>10.890000</td>\n",
              "      <td>13.560000</td>\n",
              "    </tr>\n",
              "  </tbody>\n",
              "</table>\n",
              "</div>"
            ],
            "text/plain": [
              "              temp   spcond (ms/cm)  ...  phycocyanin     sysbattery\n",
              "count  11858.000000    11858.000000  ...  11858.000000  11858.000000\n",
              "mean      20.941906        1.510206  ...      0.940625     12.253828\n",
              "std        3.233775        0.558131  ...      0.673713      0.544124\n",
              "min       13.420000        0.690000  ...      0.140000      6.500000\n",
              "25%       18.490000        0.990000  ...      0.470000     12.030000\n",
              "50%       21.060000        1.590000  ...      0.850000     12.320000\n",
              "75%       23.720000        2.000000  ...      1.190000     12.550000\n",
              "max       28.830000        2.560000  ...     10.890000     13.560000\n",
              "\n",
              "[8 rows x 9 columns]"
            ]
          },
          "metadata": {
            "tags": []
          },
          "execution_count": 4
        }
      ]
    },
    {
      "cell_type": "code",
      "metadata": {
        "colab": {
          "base_uri": "https://localhost:8080/"
        },
        "id": "aeWBoCvoGy40",
        "outputId": "1b68740d-552a-447b-b32e-0ca469d71721"
      },
      "source": [
        "df.info()"
      ],
      "execution_count": null,
      "outputs": [
        {
          "output_type": "stream",
          "text": [
            "<class 'pandas.core.frame.DataFrame'>\n",
            "RangeIndex: 11858 entries, 0 to 11857\n",
            "Data columns (total 11 columns):\n",
            " #   Column          Non-Null Count  Dtype  \n",
            "---  ------          --------------  -----  \n",
            " 0   date            11858 non-null  object \n",
            " 1   time            11858 non-null  object \n",
            " 2   temp            11858 non-null  float64\n",
            " 3   spcond (ms/cm)  11858 non-null  float64\n",
            " 4   ph              11858 non-null  float64\n",
            " 5   Ox              11858 non-null  float64\n",
            " 6   do_persent      11858 non-null  float64\n",
            " 7   turbidity       11858 non-null  float64\n",
            " 8   chlorophyll     11858 non-null  float64\n",
            " 9   phycocyanin     11858 non-null  float64\n",
            " 10  sysbattery      11858 non-null  float64\n",
            "dtypes: float64(9), object(2)\n",
            "memory usage: 1019.2+ KB\n"
          ],
          "name": "stdout"
        }
      ]
    },
    {
      "cell_type": "code",
      "metadata": {
        "colab": {
          "base_uri": "https://localhost:8080/",
          "height": 419
        },
        "id": "rd3wqAGbJkCY",
        "outputId": "73adb5b2-c322-499f-e3ce-b992d7ce45f1"
      },
      "source": [
        "df1=df.drop(['date','time'],axis=1)\n",
        "df_mean = df1.mean()\n",
        "df=df1.replace(np.nan, df_mean)\n",
        "df"
      ],
      "execution_count": null,
      "outputs": [
        {
          "output_type": "execute_result",
          "data": {
            "text/html": [
              "<div>\n",
              "<style scoped>\n",
              "    .dataframe tbody tr th:only-of-type {\n",
              "        vertical-align: middle;\n",
              "    }\n",
              "\n",
              "    .dataframe tbody tr th {\n",
              "        vertical-align: top;\n",
              "    }\n",
              "\n",
              "    .dataframe thead th {\n",
              "        text-align: right;\n",
              "    }\n",
              "</style>\n",
              "<table border=\"1\" class=\"dataframe\">\n",
              "  <thead>\n",
              "    <tr style=\"text-align: right;\">\n",
              "      <th></th>\n",
              "      <th>temp</th>\n",
              "      <th>spcond (ms/cm)</th>\n",
              "      <th>ph</th>\n",
              "      <th>Ox</th>\n",
              "      <th>do_persent</th>\n",
              "      <th>turbidity</th>\n",
              "      <th>chlorophyll</th>\n",
              "      <th>phycocyanin</th>\n",
              "      <th>sysbattery</th>\n",
              "    </tr>\n",
              "  </thead>\n",
              "  <tbody>\n",
              "    <tr>\n",
              "      <th>0</th>\n",
              "      <td>14.86</td>\n",
              "      <td>0.82</td>\n",
              "      <td>7.06</td>\n",
              "      <td>8.23</td>\n",
              "      <td>81.57</td>\n",
              "      <td>1.84</td>\n",
              "      <td>1.13</td>\n",
              "      <td>0.31</td>\n",
              "      <td>12.69</td>\n",
              "    </tr>\n",
              "    <tr>\n",
              "      <th>1</th>\n",
              "      <td>14.89</td>\n",
              "      <td>0.82</td>\n",
              "      <td>7.06</td>\n",
              "      <td>8.23</td>\n",
              "      <td>81.66</td>\n",
              "      <td>1.81</td>\n",
              "      <td>1.12</td>\n",
              "      <td>0.29</td>\n",
              "      <td>12.56</td>\n",
              "    </tr>\n",
              "    <tr>\n",
              "      <th>2</th>\n",
              "      <td>14.89</td>\n",
              "      <td>0.82</td>\n",
              "      <td>7.08</td>\n",
              "      <td>8.26</td>\n",
              "      <td>81.94</td>\n",
              "      <td>1.84</td>\n",
              "      <td>1.28</td>\n",
              "      <td>0.30</td>\n",
              "      <td>12.33</td>\n",
              "    </tr>\n",
              "    <tr>\n",
              "      <th>3</th>\n",
              "      <td>14.79</td>\n",
              "      <td>0.82</td>\n",
              "      <td>7.10</td>\n",
              "      <td>8.23</td>\n",
              "      <td>81.39</td>\n",
              "      <td>1.93</td>\n",
              "      <td>1.22</td>\n",
              "      <td>0.31</td>\n",
              "      <td>12.27</td>\n",
              "    </tr>\n",
              "    <tr>\n",
              "      <th>4</th>\n",
              "      <td>14.86</td>\n",
              "      <td>0.82</td>\n",
              "      <td>7.11</td>\n",
              "      <td>8.28</td>\n",
              "      <td>82.08</td>\n",
              "      <td>1.77</td>\n",
              "      <td>1.14</td>\n",
              "      <td>0.32</td>\n",
              "      <td>12.19</td>\n",
              "    </tr>\n",
              "    <tr>\n",
              "      <th>...</th>\n",
              "      <td>...</td>\n",
              "      <td>...</td>\n",
              "      <td>...</td>\n",
              "      <td>...</td>\n",
              "      <td>...</td>\n",
              "      <td>...</td>\n",
              "      <td>...</td>\n",
              "      <td>...</td>\n",
              "      <td>...</td>\n",
              "    </tr>\n",
              "    <tr>\n",
              "      <th>11853</th>\n",
              "      <td>14.85</td>\n",
              "      <td>1.56</td>\n",
              "      <td>7.33</td>\n",
              "      <td>8.47</td>\n",
              "      <td>84.14</td>\n",
              "      <td>4.94</td>\n",
              "      <td>1.53</td>\n",
              "      <td>0.67</td>\n",
              "      <td>10.01</td>\n",
              "    </tr>\n",
              "    <tr>\n",
              "      <th>11854</th>\n",
              "      <td>14.82</td>\n",
              "      <td>1.56</td>\n",
              "      <td>7.33</td>\n",
              "      <td>8.46</td>\n",
              "      <td>83.98</td>\n",
              "      <td>5.11</td>\n",
              "      <td>1.84</td>\n",
              "      <td>0.68</td>\n",
              "      <td>9.87</td>\n",
              "    </tr>\n",
              "    <tr>\n",
              "      <th>11855</th>\n",
              "      <td>14.81</td>\n",
              "      <td>1.56</td>\n",
              "      <td>7.33</td>\n",
              "      <td>8.47</td>\n",
              "      <td>84.07</td>\n",
              "      <td>4.99</td>\n",
              "      <td>1.79</td>\n",
              "      <td>0.71</td>\n",
              "      <td>9.64</td>\n",
              "    </tr>\n",
              "    <tr>\n",
              "      <th>11856</th>\n",
              "      <td>14.82</td>\n",
              "      <td>1.56</td>\n",
              "      <td>7.32</td>\n",
              "      <td>8.45</td>\n",
              "      <td>83.86</td>\n",
              "      <td>4.76</td>\n",
              "      <td>1.89</td>\n",
              "      <td>0.73</td>\n",
              "      <td>9.32</td>\n",
              "    </tr>\n",
              "    <tr>\n",
              "      <th>11857</th>\n",
              "      <td>14.79</td>\n",
              "      <td>1.56</td>\n",
              "      <td>7.33</td>\n",
              "      <td>8.46</td>\n",
              "      <td>83.95</td>\n",
              "      <td>5.34</td>\n",
              "      <td>1.68</td>\n",
              "      <td>0.70</td>\n",
              "      <td>8.96</td>\n",
              "    </tr>\n",
              "  </tbody>\n",
              "</table>\n",
              "<p>11858 rows × 9 columns</p>\n",
              "</div>"
            ],
            "text/plain": [
              "       temp   spcond (ms/cm)    ph  ...  chlorophyll   phycocyanin   sysbattery\n",
              "0      14.86            0.82  7.06  ...          1.13          0.31       12.69\n",
              "1      14.89            0.82  7.06  ...          1.12          0.29       12.56\n",
              "2      14.89            0.82  7.08  ...          1.28          0.30       12.33\n",
              "3      14.79            0.82  7.10  ...          1.22          0.31       12.27\n",
              "4      14.86            0.82  7.11  ...          1.14          0.32       12.19\n",
              "...      ...             ...   ...  ...           ...           ...         ...\n",
              "11853  14.85            1.56  7.33  ...          1.53          0.67       10.01\n",
              "11854  14.82            1.56  7.33  ...          1.84          0.68        9.87\n",
              "11855  14.81            1.56  7.33  ...          1.79          0.71        9.64\n",
              "11856  14.82            1.56  7.32  ...          1.89          0.73        9.32\n",
              "11857  14.79            1.56  7.33  ...          1.68          0.70        8.96\n",
              "\n",
              "[11858 rows x 9 columns]"
            ]
          },
          "metadata": {
            "tags": []
          },
          "execution_count": 6
        }
      ]
    },
    {
      "cell_type": "code",
      "metadata": {
        "colab": {
          "base_uri": "https://localhost:8080/"
        },
        "id": "yurgjv1CKr_9",
        "outputId": "566483bf-f2bf-4c59-ba32-9d6f936eafdc"
      },
      "source": [
        "df.info()"
      ],
      "execution_count": null,
      "outputs": [
        {
          "output_type": "stream",
          "text": [
            "<class 'pandas.core.frame.DataFrame'>\n",
            "RangeIndex: 11858 entries, 0 to 11857\n",
            "Data columns (total 9 columns):\n",
            " #   Column          Non-Null Count  Dtype  \n",
            "---  ------          --------------  -----  \n",
            " 0   temp            11858 non-null  float64\n",
            " 1   spcond (ms/cm)  11858 non-null  float64\n",
            " 2   ph              11858 non-null  float64\n",
            " 3   Ox              11858 non-null  float64\n",
            " 4   do_persent      11858 non-null  float64\n",
            " 5   turbidity       11858 non-null  float64\n",
            " 6   chlorophyll     11858 non-null  float64\n",
            " 7   phycocyanin     11858 non-null  float64\n",
            " 8   sysbattery      11858 non-null  float64\n",
            "dtypes: float64(9)\n",
            "memory usage: 833.9 KB\n"
          ],
          "name": "stdout"
        }
      ]
    },
    {
      "cell_type": "code",
      "metadata": {
        "colab": {
          "base_uri": "https://localhost:8080/"
        },
        "id": "MEfc50o1Thq8",
        "outputId": "20075682-896e-40ae-987b-326c15c7be3c"
      },
      "source": [
        "print(df.columns.values)"
      ],
      "execution_count": null,
      "outputs": [
        {
          "output_type": "stream",
          "text": [
            "['temp ' 'spcond (ms/cm)' 'ph' 'Ox' 'do_persent' 'turbidity '\n",
            " 'chlorophyll ' 'phycocyanin ' 'sysbattery']\n"
          ],
          "name": "stdout"
        }
      ]
    },
    {
      "cell_type": "markdown",
      "metadata": {
        "id": "wm5hdwT-o6Gl"
      },
      "source": [
        "#Correletaion between elements"
      ]
    },
    {
      "cell_type": "code",
      "metadata": {
        "colab": {
          "base_uri": "https://localhost:8080/",
          "height": 527
        },
        "id": "uO0-ykJ0m2Ao",
        "outputId": "ad8b2239-1499-4eb7-9592-09a193cd92b6"
      },
      "source": [
        "corr = df.corr()\n",
        "plt.figure(figsize=(20,10))\n",
        "sns.heatmap(corr, annot=True, cmap='coolwarm')"
      ],
      "execution_count": null,
      "outputs": [
        {
          "output_type": "execute_result",
          "data": {
            "text/plain": [
              "<matplotlib.axes._subplots.AxesSubplot at 0x7f4e27ca4d90>"
            ]
          },
          "metadata": {
            "tags": []
          },
          "execution_count": 9
        },
        {
          "output_type": "display_data",
          "data": {
            "image/png": "[encoded data removed]",
            "text/plain": [
              "<Figure size 1440x720 with 2 Axes>"
            ]
          },
          "metadata": {
            "tags": [],
            "needs_background": "light"
          }
        }
      ]
    },
    {
      "cell_type": "code",
      "metadata": {
        "colab": {
          "base_uri": "https://localhost:8080/",
          "height": 490
        },
        "id": "WSPZk0LRL3Qo",
        "outputId": "b8eb4fbc-3a03-460a-824b-70b3423b1017"
      },
      "source": [
        "fig, ax = plt.subplots(ncols=4, nrows=2, figsize=(20,10))\n",
        "index = 0\n",
        "ax = ax.flatten()\n",
        "\n",
        "for col in df.items():\n",
        "    if col != 'ph':\n",
        "        sns.boxplot(y='Ox', data=df, ax=ax[index])\n",
        "        break\n",
        "        index += 1\n",
        "        \n",
        "plt.tight_layout(pad=0.5, w_pad=0.7, h_pad=5.0)"
      ],
      "execution_count": null,
      "outputs": [
        {
          "output_type": "display_data",
          "data": {
            "image/png": "[encoded data removed]",
            "text/plain": [
              "<Figure size 1440x720 with 8 Axes>"
            ]
          },
          "metadata": {
            "tags": [],
            "needs_background": "light"
          }
        }
      ]
    },
    {
      "cell_type": "code",
      "metadata": {
        "colab": {
          "base_uri": "https://localhost:8080/"
        },
        "id": "rPgLmMt7ze26",
        "outputId": "b1667672-2e86-4d73-8cee-7ca6bc805cd8"
      },
      "source": [
        "pip install mglearn\n"
      ],
      "execution_count": null,
      "outputs": [
        {
          "output_type": "stream",
          "text": [
            "Collecting mglearn\n",
            "\u001b[?25l  Downloading https://files.pythonhosted.org/packages/65/38/8aced26fce0b2ae82c3c87cd3b6105f38ca6d9d51704ecc44aa54473e6b9/mglearn-0.1.9.tar.gz (540kB)\n",
            "\u001b[K     |████████████████████████████████| 542kB 4.1MB/s \n",
            "\u001b[?25hRequirement already satisfied: numpy in /usr/local/lib/python3.7/dist-packages (from mglearn) (1.19.5)\n",
            "Requirement already satisfied: matplotlib in /usr/local/lib/python3.7/dist-packages (from mglearn) (3.2.2)\n",
            "Requirement already satisfied: scikit-learn in /usr/local/lib/python3.7/dist-packages (from mglearn) (0.22.2.post1)\n",
            "Requirement already satisfied: pandas in /usr/local/lib/python3.7/dist-packages (from mglearn) (1.1.5)\n",
            "Requirement already satisfied: pillow in /usr/local/lib/python3.7/dist-packages (from mglearn) (7.1.2)\n",
            "Requirement already satisfied: cycler in /usr/local/lib/python3.7/dist-packages (from mglearn) (0.10.0)\n",
            "Requirement already satisfied: imageio in /usr/local/lib/python3.7/dist-packages (from mglearn) (2.4.1)\n",
            "Requirement already satisfied: joblib in /usr/local/lib/python3.7/dist-packages (from mglearn) (1.0.1)\n",
            "Requirement already satisfied: pyparsing!=2.0.4,!=2.1.2,!=2.1.6,>=2.0.1 in /usr/local/lib/python3.7/dist-packages (from matplotlib->mglearn) (2.4.7)\n",
            "Requirement already satisfied: python-dateutil>=2.1 in /usr/local/lib/python3.7/dist-packages (from matplotlib->mglearn) (2.8.1)\n",
            "Requirement already satisfied: kiwisolver>=1.0.1 in /usr/local/lib/python3.7/dist-packages (from matplotlib->mglearn) (1.3.1)\n",
            "Requirement already satisfied: scipy>=0.17.0 in /usr/local/lib/python3.7/dist-packages (from scikit-learn->mglearn) (1.4.1)\n",
            "Requirement already satisfied: pytz>=2017.2 in /usr/local/lib/python3.7/dist-packages (from pandas->mglearn) (2018.9)\n",
            "Requirement already satisfied: six in /usr/local/lib/python3.7/dist-packages (from cycler->mglearn) (1.15.0)\n",
            "Building wheels for collected packages: mglearn\n",
            "  Building wheel for mglearn (setup.py) ... \u001b[?25l\u001b[?25hdone\n",
            "  Created wheel for mglearn: filename=mglearn-0.1.9-py2.py3-none-any.whl size=582638 sha256=7761dbe6551fe08277c08a56e26a0c306a29180837b53c295dc2c0f1511c8bf6\n",
            "  Stored in directory: /root/.cache/pip/wheels/eb/a6/ea/a6a3716233fa62fc561259b5cb1e28f79e9ff3592c0adac5f0\n",
            "Successfully built mglearn\n",
            "Installing collected packages: mglearn\n",
            "Successfully installed mglearn-0.1.9\n"
          ],
          "name": "stdout"
        }
      ]
    },
    {
      "cell_type": "code",
      "metadata": {
        "id": "86hPU4NizjwG"
      },
      "source": [
        "import mglearn \n",
        "import matplotlib.pyplot as plt"
      ],
      "execution_count": null,
      "outputs": []
    },
    {
      "cell_type": "code",
      "metadata": {
        "id": "kPqhgH4VmXef"
      },
      "source": [
        "from sklearn.neighbors import KNeighborsRegressor\n",
        "ph = df[['ph']]\n",
        "ox = df[['Ox']]\n",
        "from sklearn.model_selection import train_test_split\n",
        "X = ph\n",
        "y = ox\n",
        "X_train, X_test, y_train, y_test = train_test_split(X, y, test_size=0.2, random_state=1)"
      ],
      "execution_count": null,
      "outputs": []
    },
    {
      "cell_type": "code",
      "metadata": {
        "colab": {
          "base_uri": "https://localhost:8080/",
          "height": 419
        },
        "id": "z2kYzXlLb_xr",
        "outputId": "a299c6a6-8f22-4897-d80d-7d3fc7c4e08a"
      },
      "source": [
        "X_train"
      ],
      "execution_count": null,
      "outputs": [
        {
          "output_type": "execute_result",
          "data": {
            "text/html": [
              "<div>\n",
              "<style scoped>\n",
              "    .dataframe tbody tr th:only-of-type {\n",
              "        vertical-align: middle;\n",
              "    }\n",
              "\n",
              "    .dataframe tbody tr th {\n",
              "        vertical-align: top;\n",
              "    }\n",
              "\n",
              "    .dataframe thead th {\n",
              "        text-align: right;\n",
              "    }\n",
              "</style>\n",
              "<table border=\"1\" class=\"dataframe\">\n",
              "  <thead>\n",
              "    <tr style=\"text-align: right;\">\n",
              "      <th></th>\n",
              "      <th>ph</th>\n",
              "    </tr>\n",
              "  </thead>\n",
              "  <tbody>\n",
              "    <tr>\n",
              "      <th>7956</th>\n",
              "      <td>7.24</td>\n",
              "    </tr>\n",
              "    <tr>\n",
              "      <th>536</th>\n",
              "      <td>7.14</td>\n",
              "    </tr>\n",
              "    <tr>\n",
              "      <th>876</th>\n",
              "      <td>7.09</td>\n",
              "    </tr>\n",
              "    <tr>\n",
              "      <th>3706</th>\n",
              "      <td>8.15</td>\n",
              "    </tr>\n",
              "    <tr>\n",
              "      <th>1735</th>\n",
              "      <td>6.91</td>\n",
              "    </tr>\n",
              "    <tr>\n",
              "      <th>...</th>\n",
              "      <td>...</td>\n",
              "    </tr>\n",
              "    <tr>\n",
              "      <th>7813</th>\n",
              "      <td>7.21</td>\n",
              "    </tr>\n",
              "    <tr>\n",
              "      <th>10955</th>\n",
              "      <td>8.40</td>\n",
              "    </tr>\n",
              "    <tr>\n",
              "      <th>905</th>\n",
              "      <td>7.04</td>\n",
              "    </tr>\n",
              "    <tr>\n",
              "      <th>5192</th>\n",
              "      <td>7.80</td>\n",
              "    </tr>\n",
              "    <tr>\n",
              "      <th>235</th>\n",
              "      <td>7.13</td>\n",
              "    </tr>\n",
              "  </tbody>\n",
              "</table>\n",
              "<p>9486 rows × 1 columns</p>\n",
              "</div>"
            ],
            "text/plain": [
              "         ph\n",
              "7956   7.24\n",
              "536    7.14\n",
              "876    7.09\n",
              "3706   8.15\n",
              "1735   6.91\n",
              "...     ...\n",
              "7813   7.21\n",
              "10955  8.40\n",
              "905    7.04\n",
              "5192   7.80\n",
              "235    7.13\n",
              "\n",
              "[9486 rows x 1 columns]"
            ]
          },
          "metadata": {
            "tags": []
          },
          "execution_count": 50
        }
      ]
    },
    {
      "cell_type": "code",
      "metadata": {
        "colab": {
          "base_uri": "https://localhost:8080/",
          "height": 419
        },
        "id": "hFb6i4Xs_3iq",
        "outputId": "7a719150-2250-404b-acf2-e085654e1d60"
      },
      "source": [
        "X_test"
      ],
      "execution_count": null,
      "outputs": [
        {
          "output_type": "execute_result",
          "data": {
            "text/html": [
              "<div>\n",
              "<style scoped>\n",
              "    .dataframe tbody tr th:only-of-type {\n",
              "        vertical-align: middle;\n",
              "    }\n",
              "\n",
              "    .dataframe tbody tr th {\n",
              "        vertical-align: top;\n",
              "    }\n",
              "\n",
              "    .dataframe thead th {\n",
              "        text-align: right;\n",
              "    }\n",
              "</style>\n",
              "<table border=\"1\" class=\"dataframe\">\n",
              "  <thead>\n",
              "    <tr style=\"text-align: right;\">\n",
              "      <th></th>\n",
              "      <th>ph</th>\n",
              "    </tr>\n",
              "  </thead>\n",
              "  <tbody>\n",
              "    <tr>\n",
              "      <th>7156</th>\n",
              "      <td>8.77</td>\n",
              "    </tr>\n",
              "    <tr>\n",
              "      <th>941</th>\n",
              "      <td>7.07</td>\n",
              "    </tr>\n",
              "    <tr>\n",
              "      <th>10204</th>\n",
              "      <td>7.78</td>\n",
              "    </tr>\n",
              "    <tr>\n",
              "      <th>10011</th>\n",
              "      <td>7.70</td>\n",
              "    </tr>\n",
              "    <tr>\n",
              "      <th>6007</th>\n",
              "      <td>7.90</td>\n",
              "    </tr>\n",
              "    <tr>\n",
              "      <th>...</th>\n",
              "      <td>...</td>\n",
              "    </tr>\n",
              "    <tr>\n",
              "      <th>11249</th>\n",
              "      <td>8.15</td>\n",
              "    </tr>\n",
              "    <tr>\n",
              "      <th>9524</th>\n",
              "      <td>8.11</td>\n",
              "    </tr>\n",
              "    <tr>\n",
              "      <th>6233</th>\n",
              "      <td>8.06</td>\n",
              "    </tr>\n",
              "    <tr>\n",
              "      <th>7248</th>\n",
              "      <td>8.58</td>\n",
              "    </tr>\n",
              "    <tr>\n",
              "      <th>8548</th>\n",
              "      <td>8.63</td>\n",
              "    </tr>\n",
              "  </tbody>\n",
              "</table>\n",
              "<p>2372 rows × 1 columns</p>\n",
              "</div>"
            ],
            "text/plain": [
              "         ph\n",
              "7156   8.77\n",
              "941    7.07\n",
              "10204  7.78\n",
              "10011  7.70\n",
              "6007   7.90\n",
              "...     ...\n",
              "11249  8.15\n",
              "9524   8.11\n",
              "6233   8.06\n",
              "7248   8.58\n",
              "8548   8.63\n",
              "\n",
              "[2372 rows x 1 columns]"
            ]
          },
          "metadata": {
            "tags": []
          },
          "execution_count": 51
        }
      ]
    },
    {
      "cell_type": "code",
      "metadata": {
        "colab": {
          "base_uri": "https://localhost:8080/",
          "height": 419
        },
        "id": "CKBcJ9_5cDz8",
        "outputId": "e6420662-cba9-42be-bece-f938c6f84e9c"
      },
      "source": [
        "y_train"
      ],
      "execution_count": null,
      "outputs": [
        {
          "output_type": "execute_result",
          "data": {
            "text/html": [
              "<div>\n",
              "<style scoped>\n",
              "    .dataframe tbody tr th:only-of-type {\n",
              "        vertical-align: middle;\n",
              "    }\n",
              "\n",
              "    .dataframe tbody tr th {\n",
              "        vertical-align: top;\n",
              "    }\n",
              "\n",
              "    .dataframe thead th {\n",
              "        text-align: right;\n",
              "    }\n",
              "</style>\n",
              "<table border=\"1\" class=\"dataframe\">\n",
              "  <thead>\n",
              "    <tr style=\"text-align: right;\">\n",
              "      <th></th>\n",
              "      <th>Ox</th>\n",
              "    </tr>\n",
              "  </thead>\n",
              "  <tbody>\n",
              "    <tr>\n",
              "      <th>7956</th>\n",
              "      <td>6.75</td>\n",
              "    </tr>\n",
              "    <tr>\n",
              "      <th>536</th>\n",
              "      <td>8.64</td>\n",
              "    </tr>\n",
              "    <tr>\n",
              "      <th>876</th>\n",
              "      <td>7.96</td>\n",
              "    </tr>\n",
              "    <tr>\n",
              "      <th>3706</th>\n",
              "      <td>9.55</td>\n",
              "    </tr>\n",
              "    <tr>\n",
              "      <th>1735</th>\n",
              "      <td>6.01</td>\n",
              "    </tr>\n",
              "    <tr>\n",
              "      <th>...</th>\n",
              "      <td>...</td>\n",
              "    </tr>\n",
              "    <tr>\n",
              "      <th>7813</th>\n",
              "      <td>6.86</td>\n",
              "    </tr>\n",
              "    <tr>\n",
              "      <th>10955</th>\n",
              "      <td>11.18</td>\n",
              "    </tr>\n",
              "    <tr>\n",
              "      <th>905</th>\n",
              "      <td>7.76</td>\n",
              "    </tr>\n",
              "    <tr>\n",
              "      <th>5192</th>\n",
              "      <td>8.47</td>\n",
              "    </tr>\n",
              "    <tr>\n",
              "      <th>235</th>\n",
              "      <td>8.33</td>\n",
              "    </tr>\n",
              "  </tbody>\n",
              "</table>\n",
              "<p>9486 rows × 1 columns</p>\n",
              "</div>"
            ],
            "text/plain": [
              "          Ox\n",
              "7956    6.75\n",
              "536     8.64\n",
              "876     7.96\n",
              "3706    9.55\n",
              "1735    6.01\n",
              "...      ...\n",
              "7813    6.86\n",
              "10955  11.18\n",
              "905     7.76\n",
              "5192    8.47\n",
              "235     8.33\n",
              "\n",
              "[9486 rows x 1 columns]"
            ]
          },
          "metadata": {
            "tags": []
          },
          "execution_count": 52
        }
      ]
    },
    {
      "cell_type": "code",
      "metadata": {
        "colab": {
          "base_uri": "https://localhost:8080/",
          "height": 419
        },
        "id": "C_-sq6KKAA8V",
        "outputId": "a97b7960-223a-4256-994a-da60013cbbc1"
      },
      "source": [
        "y_test"
      ],
      "execution_count": null,
      "outputs": [
        {
          "output_type": "execute_result",
          "data": {
            "text/html": [
              "<div>\n",
              "<style scoped>\n",
              "    .dataframe tbody tr th:only-of-type {\n",
              "        vertical-align: middle;\n",
              "    }\n",
              "\n",
              "    .dataframe tbody tr th {\n",
              "        vertical-align: top;\n",
              "    }\n",
              "\n",
              "    .dataframe thead th {\n",
              "        text-align: right;\n",
              "    }\n",
              "</style>\n",
              "<table border=\"1\" class=\"dataframe\">\n",
              "  <thead>\n",
              "    <tr style=\"text-align: right;\">\n",
              "      <th></th>\n",
              "      <th>Ox</th>\n",
              "    </tr>\n",
              "  </thead>\n",
              "  <tbody>\n",
              "    <tr>\n",
              "      <th>7156</th>\n",
              "      <td>11.82</td>\n",
              "    </tr>\n",
              "    <tr>\n",
              "      <th>941</th>\n",
              "      <td>7.69</td>\n",
              "    </tr>\n",
              "    <tr>\n",
              "      <th>10204</th>\n",
              "      <td>9.17</td>\n",
              "    </tr>\n",
              "    <tr>\n",
              "      <th>10011</th>\n",
              "      <td>8.67</td>\n",
              "    </tr>\n",
              "    <tr>\n",
              "      <th>6007</th>\n",
              "      <td>9.40</td>\n",
              "    </tr>\n",
              "    <tr>\n",
              "      <th>...</th>\n",
              "      <td>...</td>\n",
              "    </tr>\n",
              "    <tr>\n",
              "      <th>11249</th>\n",
              "      <td>10.13</td>\n",
              "    </tr>\n",
              "    <tr>\n",
              "      <th>9524</th>\n",
              "      <td>9.81</td>\n",
              "    </tr>\n",
              "    <tr>\n",
              "      <th>6233</th>\n",
              "      <td>9.81</td>\n",
              "    </tr>\n",
              "    <tr>\n",
              "      <th>7248</th>\n",
              "      <td>11.02</td>\n",
              "    </tr>\n",
              "    <tr>\n",
              "      <th>8548</th>\n",
              "      <td>11.38</td>\n",
              "    </tr>\n",
              "  </tbody>\n",
              "</table>\n",
              "<p>2372 rows × 1 columns</p>\n",
              "</div>"
            ],
            "text/plain": [
              "          Ox\n",
              "7156   11.82\n",
              "941     7.69\n",
              "10204   9.17\n",
              "10011   8.67\n",
              "6007    9.40\n",
              "...      ...\n",
              "11249  10.13\n",
              "9524    9.81\n",
              "6233    9.81\n",
              "7248   11.02\n",
              "8548   11.38\n",
              "\n",
              "[2372 rows x 1 columns]"
            ]
          },
          "metadata": {
            "tags": []
          },
          "execution_count": 53
        }
      ]
    },
    {
      "cell_type": "code",
      "metadata": {
        "id": "dSQZ3yX29L4J"
      },
      "source": [
        "error_rate = []\n",
        "\n",
        "for i in range(1,30):\n",
        "    \n",
        "    knn = KNeighborsRegressor(n_neighbors=i)\n",
        "    knn.fit(X_train,y_train)\n",
        "    # Make point predictions on the test set using the fit model.\n",
        "    predictions = knn.predict(X_test)\n",
        "    error_rate.append(np.mean(predictions != y_test))"
      ],
      "execution_count": null,
      "outputs": []
    },
    {
      "cell_type": "code",
      "metadata": {
        "colab": {
          "base_uri": "https://localhost:8080/",
          "height": 404
        },
        "id": "sNGkoLwESebp",
        "outputId": "0c3141f1-9f4e-44c8-e3e6-abcefad1e179"
      },
      "source": [
        "plt.figure(figsize=(10,6))\n",
        "plt.plot(range(1,30),error_rate,color='blue', linestyle='dashed', marker='o',markerfacecolor='blue', markersize=10)\n",
        "plt.title('Error Rate vs. K Value')\n",
        "plt.xlabel('K')\n",
        "plt.ylabel('Error Rate')\n",
        "plt.savefig('plot2.png', dpi=300, bbox_inches='tight')\n",
        "files.download('plot2.png')\n"
      ],
      "execution_count": null,
      "outputs": [
        {
          "output_type": "display_data",
          "data": {
            "application/javascript": [
              "\n",
              "    async function download(id, filename, size) {\n",
              "      if (!google.colab.kernel.accessAllowed) {\n",
              "        return;\n",
              "      }\n",
              "      const div = document.createElement('div');\n",
              "      const label = document.createElement('label');\n",
              "      label.textContent = `Downloading \"${filename}\": `;\n",
              "      div.appendChild(label);\n",
              "      const progress = document.createElement('progress');\n",
              "      progress.max = size;\n",
              "      div.appendChild(progress);\n",
              "      document.body.appendChild(div);\n",
              "\n",
              "      const buffers = [];\n",
              "      let downloaded = 0;\n",
              "\n",
              "      const channel = await google.colab.kernel.comms.open(id);\n",
              "      // Send a message to notify the kernel that we're ready.\n",
              "      channel.send({})\n",
              "\n",
              "      for await (const message of channel.messages) {\n",
              "        // Send a message to notify the kernel that we're ready.\n",
              "        channel.send({})\n",
              "        if (message.buffers) {\n",
              "          for (const buffer of message.buffers) {\n",
              "            buffers.push(buffer);\n",
              "            downloaded += buffer.byteLength;\n",
              "            progress.value = downloaded;\n",
              "          }\n",
              "        }\n",
              "      }\n",
              "      const blob = new Blob(buffers, {type: 'application/binary'});\n",
              "      const a = document.createElement('a');\n",
              "      a.href = window.URL.createObjectURL(blob);\n",
              "      a.download = filename;\n",
              "      div.appendChild(a);\n",
              "      a.click();\n",
              "      div.remove();\n",
              "    }\n",
              "  "
            ],
            "text/plain": [
              "<IPython.core.display.Javascript object>"
            ]
          },
          "metadata": {
            "tags": []
          }
        },
        {
          "output_type": "display_data",
          "data": {
            "application/javascript": [
              "download(\"download_abff765e-e2fd-4955-ba02-90c58f586ec9\", \"plot2.png\", 115677)"
            ],
            "text/plain": [
              "<IPython.core.display.Javascript object>"
            ]
          },
          "metadata": {
            "tags": []
          }
        },
        {
          "output_type": "display_data",
          "data": {
            "image/png": "[encoded data removed]",
            "text/plain": [
              "<Figure size 720x432 with 1 Axes>"
            ]
          },
          "metadata": {
            "tags": [],
            "needs_background": "light"
          }
        }
      ]
    },
    {
      "cell_type": "code",
      "metadata": {
        "colab": {
          "base_uri": "https://localhost:8080/"
        },
        "id": "flAVjWOvSNgc",
        "outputId": "ebda409d-0f5f-4553-e275-fd7aa583b6e2"
      },
      "source": [
        "#when k=5 \n",
        "\n",
        "# Create the knn model.\n",
        "# Look at the five closest neighbors.\n",
        "knn = KNeighborsRegressor(n_neighbors=5)\n",
        "# Fit the model on the training data.\n",
        "knn.fit(ph,ox)"
      ],
      "execution_count": null,
      "outputs": [
        {
          "output_type": "execute_result",
          "data": {
            "text/plain": [
              "KNeighborsRegressor(algorithm='auto', leaf_size=30, metric='minkowski',\n",
              "                    metric_params=None, n_jobs=None, n_neighbors=5, p=2,\n",
              "                    weights='uniform')"
            ]
          },
          "metadata": {
            "tags": []
          },
          "execution_count": 16
        }
      ]
    },
    {
      "cell_type": "code",
      "metadata": {
        "colab": {
          "base_uri": "https://localhost:8080/"
        },
        "id": "QGhfUIEh_bHh",
        "outputId": "7c37e80d-527b-4124-ac02-a3bfad376f90"
      },
      "source": [
        "# Make point predictions on the test set using the fit model.\n",
        "knn.predict([[7.14]])"
      ],
      "execution_count": null,
      "outputs": [
        {
          "output_type": "execute_result",
          "data": {
            "text/plain": [
              "array([[8.564]])"
            ]
          },
          "metadata": {
            "tags": []
          },
          "execution_count": 17
        }
      ]
    },
    {
      "cell_type": "code",
      "metadata": {
        "colab": {
          "base_uri": "https://localhost:8080/",
          "height": 173
        },
        "id": "jF1liMypXoQs",
        "outputId": "daf18840-cf2d-4b02-e718-3de2151927ed"
      },
      "source": [
        "test = pd.read_csv(\"/content/sample_data/test.csv\")\n",
        "test.head(5)"
      ],
      "execution_count": null,
      "outputs": [
        {
          "output_type": "execute_result",
          "data": {
            "text/html": [
              "<div>\n",
              "<style scoped>\n",
              "    .dataframe tbody tr th:only-of-type {\n",
              "        vertical-align: middle;\n",
              "    }\n",
              "\n",
              "    .dataframe tbody tr th {\n",
              "        vertical-align: top;\n",
              "    }\n",
              "\n",
              "    .dataframe thead th {\n",
              "        text-align: right;\n",
              "    }\n",
              "</style>\n",
              "<table border=\"1\" class=\"dataframe\">\n",
              "  <thead>\n",
              "    <tr style=\"text-align: right;\">\n",
              "      <th></th>\n",
              "      <th>ph</th>\n",
              "    </tr>\n",
              "  </thead>\n",
              "  <tbody>\n",
              "    <tr>\n",
              "      <th>0</th>\n",
              "      <td>6.98</td>\n",
              "    </tr>\n",
              "    <tr>\n",
              "      <th>1</th>\n",
              "      <td>6.83</td>\n",
              "    </tr>\n",
              "    <tr>\n",
              "      <th>2</th>\n",
              "      <td>6.88</td>\n",
              "    </tr>\n",
              "    <tr>\n",
              "      <th>3</th>\n",
              "      <td>6.61</td>\n",
              "    </tr>\n",
              "  </tbody>\n",
              "</table>\n",
              "</div>"
            ],
            "text/plain": [
              "     ph\n",
              "0  6.98\n",
              "1  6.83\n",
              "2  6.88\n",
              "3  6.61"
            ]
          },
          "metadata": {
            "tags": []
          },
          "execution_count": 18
        }
      ]
    },
    {
      "cell_type": "code",
      "metadata": {
        "colab": {
          "base_uri": "https://localhost:8080/"
        },
        "id": "eWgWxdNcXoBh",
        "outputId": "e4a413e2-7b11-4123-db3c-4dd72dccebb2"
      },
      "source": [
        "p = knn.predict(test)\n",
        "p"
      ],
      "execution_count": null,
      "outputs": [
        {
          "output_type": "execute_result",
          "data": {
            "text/plain": [
              "array([[6.64 ],\n",
              "       [5.698],\n",
              "       [6.284],\n",
              "       [5.698]])"
            ]
          },
          "metadata": {
            "tags": []
          },
          "execution_count": 19
        }
      ]
    },
    {
      "cell_type": "code",
      "metadata": {
        "colab": {
          "base_uri": "https://localhost:8080/"
        },
        "id": "Exd5EtX2CEAu",
        "outputId": "73fa1dbe-b263-492e-8248-79bf2bcf00cb"
      },
      "source": [
        "accuracy = knn.score(X_test, y_test)\n",
        "print (accuracy)\n",
        "print(accuracy*100)"
      ],
      "execution_count": null,
      "outputs": [
        {
          "output_type": "stream",
          "text": [
            "0.8780604169842506\n",
            "87.80604169842506\n"
          ],
          "name": "stdout"
        }
      ]
    },
    {
      "cell_type": "code",
      "metadata": {
        "colab": {
          "base_uri": "https://localhost:8080/"
        },
        "id": "VKogBStKuYjK",
        "outputId": "2e8c3e13-97c9-42ec-eba3-1ed0eccd1f1e"
      },
      "source": [
        "predictions"
      ],
      "execution_count": null,
      "outputs": [
        {
          "output_type": "execute_result",
          "data": {
            "text/plain": [
              "array([[11.23068966],\n",
              "       [ 7.68275862],\n",
              "       [ 9.11965517],\n",
              "       ...,\n",
              "       [ 9.58931034],\n",
              "       [11.01482759],\n",
              "       [11.05551724]])"
            ]
          },
          "metadata": {
            "tags": []
          },
          "execution_count": 21
        }
      ]
    },
    {
      "cell_type": "code",
      "metadata": {
        "id": "0Ky9YNCxeajj",
        "colab": {
          "base_uri": "https://localhost:8080/"
        },
        "outputId": "710763e7-2bc0-422d-f47d-a45b5d79badf"
      },
      "source": [
        "#when k=17 \n",
        "\n",
        "# Create the knn model.\n",
        "# Look at the five closest neighbors.\n",
        "knn = KNeighborsRegressor(n_neighbors=17)\n",
        "# Fit the model on the training data.\n",
        "knn.fit(ph,ox)"
      ],
      "execution_count": null,
      "outputs": [
        {
          "output_type": "execute_result",
          "data": {
            "text/plain": [
              "KNeighborsRegressor(algorithm='auto', leaf_size=30, metric='minkowski',\n",
              "                    metric_params=None, n_jobs=None, n_neighbors=17, p=2,\n",
              "                    weights='uniform')"
            ]
          },
          "metadata": {
            "tags": []
          },
          "execution_count": 22
        }
      ]
    },
    {
      "cell_type": "code",
      "metadata": {
        "id": "Zvp808H3elFH",
        "colab": {
          "base_uri": "https://localhost:8080/"
        },
        "outputId": "4918deb5-d608-4652-f6c7-edadf66122f5"
      },
      "source": [
        "# Make point predictions on the test set using the fit model.\n",
        "knn.predict([[7.14]])"
      ],
      "execution_count": null,
      "outputs": [
        {
          "output_type": "execute_result",
          "data": {
            "text/plain": [
              "array([[8.43647059]])"
            ]
          },
          "metadata": {
            "tags": []
          },
          "execution_count": 23
        }
      ]
    },
    {
      "cell_type": "code",
      "metadata": {
        "id": "2RXGupTCe4pe",
        "colab": {
          "base_uri": "https://localhost:8080/"
        },
        "outputId": "ecdd2bc7-4496-4d24-cecc-3d9928757b7a"
      },
      "source": [
        "p1 = knn.predict(test)\n",
        "p1"
      ],
      "execution_count": null,
      "outputs": [
        {
          "output_type": "execute_result",
          "data": {
            "text/plain": [
              "array([[6.76823529],\n",
              "       [5.80823529],\n",
              "       [5.99235294],\n",
              "       [5.80823529]])"
            ]
          },
          "metadata": {
            "tags": []
          },
          "execution_count": 24
        }
      ]
    },
    {
      "cell_type": "code",
      "metadata": {
        "id": "9HABBT1rf2yy",
        "colab": {
          "base_uri": "https://localhost:8080/"
        },
        "outputId": "28984e31-b2eb-4b2f-9123-d9cf2649572f"
      },
      "source": [
        "accuracy = knn.score(X_test, y_test)\n",
        "print (accuracy)\n",
        "print(accuracy*100)"
      ],
      "execution_count": null,
      "outputs": [
        {
          "output_type": "stream",
          "text": [
            "0.8965059000332931\n",
            "89.65059000332931\n"
          ],
          "name": "stdout"
        }
      ]
    },
    {
      "cell_type": "code",
      "metadata": {
        "id": "nN_F_pLPfDIl",
        "colab": {
          "base_uri": "https://localhost:8080/"
        },
        "outputId": "2e0a238b-7180-4c03-d753-18ac3b9f252c"
      },
      "source": [
        "#when k=30 \n",
        "\n",
        "# Create the knn model.\n",
        "# Look at the five closest neighbors.\n",
        "knn = KNeighborsRegressor(n_neighbors=30)\n",
        "# Fit the model on the training data.\n",
        "knn.fit(ph,ox)"
      ],
      "execution_count": null,
      "outputs": [
        {
          "output_type": "execute_result",
          "data": {
            "text/plain": [
              "KNeighborsRegressor(algorithm='auto', leaf_size=30, metric='minkowski',\n",
              "                    metric_params=None, n_jobs=None, n_neighbors=30, p=2,\n",
              "                    weights='uniform')"
            ]
          },
          "metadata": {
            "tags": []
          },
          "execution_count": 26
        }
      ]
    },
    {
      "cell_type": "code",
      "metadata": {
        "id": "zqPzmABmftyE",
        "colab": {
          "base_uri": "https://localhost:8080/"
        },
        "outputId": "77872dfe-2cbc-409b-8df4-c4a1653185f8"
      },
      "source": [
        "# Make point predictions on the test set using the fit model.\n",
        "knn.predict([[7.14]])"
      ],
      "execution_count": null,
      "outputs": [
        {
          "output_type": "execute_result",
          "data": {
            "text/plain": [
              "array([[8.36333333]])"
            ]
          },
          "metadata": {
            "tags": []
          },
          "execution_count": 27
        }
      ]
    },
    {
      "cell_type": "code",
      "metadata": {
        "id": "9Iw1iysPfx6-",
        "colab": {
          "base_uri": "https://localhost:8080/"
        },
        "outputId": "68612110-1626-43f9-f6eb-75cfbcfa7ab9"
      },
      "source": [
        "p1 = knn.predict(test)\n",
        "p1"
      ],
      "execution_count": null,
      "outputs": [
        {
          "output_type": "execute_result",
          "data": {
            "text/plain": [
              "array([[6.78866667],\n",
              "       [5.885     ],\n",
              "       [6.11233333],\n",
              "       [5.885     ]])"
            ]
          },
          "metadata": {
            "tags": []
          },
          "execution_count": 28
        }
      ]
    },
    {
      "cell_type": "code",
      "metadata": {
        "id": "7a-5Ttn0f4Qa",
        "colab": {
          "base_uri": "https://localhost:8080/"
        },
        "outputId": "777e9fe4-19fe-44fe-c2f6-66e236a38180"
      },
      "source": [
        "accuracy = knn.score(X_test, y_test)\n",
        "print (accuracy)\n",
        "print(accuracy*100)"
      ],
      "execution_count": null,
      "outputs": [
        {
          "output_type": "stream",
          "text": [
            "0.9022159131896789\n",
            "90.22159131896788\n"
          ],
          "name": "stdout"
        }
      ]
    },
    {
      "cell_type": "code",
      "metadata": {
        "colab": {
          "base_uri": "https://localhost:8080/",
          "height": 310
        },
        "id": "zeI7PwwExge3",
        "outputId": "e74e0c2d-35af-4bb7-c12b-748b87c34784"
      },
      "source": [
        "fig, axes = plt.subplots(1, 3, figsize=(15, 4))\n",
        "# create 1,000 data points, evenly spaced between 6 and 10\n",
        "line = np.linspace(6, 10, 1000).reshape(-1, 1)\n",
        "for n_neighbors, ax in zip([5, 17, 30], axes):\n",
        "    # make predictions using 5, 17, or 30 neighbors\n",
        "    reg = KNeighborsRegressor(n_neighbors=n_neighbors)\n",
        "    reg.fit(X_train, y_train)\n",
        "    ax.plot(line, reg.predict(line),color='green', linewidth=3)\n",
        "    ax.plot(X_train, y_train, '^', c=mglearn.cm2(0), markersize=1)\n",
        "    ax.plot(X_test, y_test, 'v', c=mglearn.cm2(1), markersize=1)\n",
        "    ax.set_title(\"{} neighbor(s)\\n train score: {:.2f} test score: {:.2f}\".format(n_neighbors,reg.score(X_train, y_train),reg.score(X_test,y_test)))\n",
        "    ax.set_xlabel(\"pH\")\n",
        "    ax.set_ylabel(\"Oxygen\")\n",
        "axes[0].legend([\"Model predictions\", \"Training data/target\",\"Test data/target\"], loc=\"best\")\n",
        "plt.savefig('plot1.png', dpi=300, bbox_inches='tight')\n",
        "files.download('plot1.png')"
      ],
      "execution_count": null,
      "outputs": [
        {
          "output_type": "display_data",
          "data": {
            "application/javascript": [
              "\n",
              "    async function download(id, filename, size) {\n",
              "      if (!google.colab.kernel.accessAllowed) {\n",
              "        return;\n",
              "      }\n",
              "      const div = document.createElement('div');\n",
              "      const label = document.createElement('label');\n",
              "      label.textContent = `Downloading \"${filename}\": `;\n",
              "      div.appendChild(label);\n",
              "      const progress = document.createElement('progress');\n",
              "      progress.max = size;\n",
              "      div.appendChild(progress);\n",
              "      document.body.appendChild(div);\n",
              "\n",
              "      const buffers = [];\n",
              "      let downloaded = 0;\n",
              "\n",
              "      const channel = await google.colab.kernel.comms.open(id);\n",
              "      // Send a message to notify the kernel that we're ready.\n",
              "      channel.send({})\n",
              "\n",
              "      for await (const message of channel.messages) {\n",
              "        // Send a message to notify the kernel that we're ready.\n",
              "        channel.send({})\n",
              "        if (message.buffers) {\n",
              "          for (const buffer of message.buffers) {\n",
              "            buffers.push(buffer);\n",
              "            downloaded += buffer.byteLength;\n",
              "            progress.value = downloaded;\n",
              "          }\n",
              "        }\n",
              "      }\n",
              "      const blob = new Blob(buffers, {type: 'application/binary'});\n",
              "      const a = document.createElement('a');\n",
              "      a.href = window.URL.createObjectURL(blob);\n",
              "      a.download = filename;\n",
              "      div.appendChild(a);\n",
              "      a.click();\n",
              "      div.remove();\n",
              "    }\n",
              "  "
            ],
            "text/plain": [
              "<IPython.core.display.Javascript object>"
            ]
          },
          "metadata": {
            "tags": []
          }
        },
        {
          "output_type": "display_data",
          "data": {
            "application/javascript": [
              "download(\"download_7d79f018-9862-4f2c-b8c2-926a2dffa297\", \"plot1.png\", 297354)"
            ],
            "text/plain": [
              "<IPython.core.display.Javascript object>"
            ]
          },
          "metadata": {
            "tags": []
          }
        },
        {
          "output_type": "display_data",
          "data": {
            "image/png": "[encoded data removed]",
            "text/plain": [
              "<Figure size 1080x288 with 3 Axes>"
            ]
          },
          "metadata": {
            "tags": [],
            "needs_background": "light"
          }
        }
      ]
    },
    {
      "cell_type": "markdown",
      "metadata": {
        "id": "I4oVdm7ixlPE"
      },
      "source": [
        "#Cross Validation"
      ]
    },
    {
      "cell_type": "code",
      "metadata": {
        "colab": {
          "base_uri": "https://localhost:8080/",
          "height": 296
        },
        "id": "gs_iodMlnIaQ",
        "outputId": "ff06fd61-6677-4e3c-ba87-308c595241b8"
      },
      "source": [
        "import matplotlib.pyplot as plt\n",
        "from sklearn.model_selection import cross_val_score\n",
        "k_range = range(1, 31)\n",
        "k_scores = []\n",
        "for k in k_range:\n",
        "    knn = KNeighborsRegressor(n_neighbors=k)\n",
        "    loss = abs(cross_val_score(knn, X, y, cv=5, scoring='neg_mean_squared_error'))\n",
        "    k_scores.append(loss.mean())\n",
        "plt.plot(k_range, k_scores)\n",
        "plt.xlabel('Value of K for KNN')\n",
        "plt.ylabel('Cross-Validated MSE')\n",
        "plt.savefig('plot0.png', dpi=300, bbox_inches='tight')\n",
        "files.download('plot0.png')\n",
        "plt.show()"
      ],
      "execution_count": null,
      "outputs": [
        {
          "output_type": "display_data",
          "data": {
            "application/javascript": [
              "\n",
              "    async function download(id, filename, size) {\n",
              "      if (!google.colab.kernel.accessAllowed) {\n",
              "        return;\n",
              "      }\n",
              "      const div = document.createElement('div');\n",
              "      const label = document.createElement('label');\n",
              "      label.textContent = `Downloading \"${filename}\": `;\n",
              "      div.appendChild(label);\n",
              "      const progress = document.createElement('progress');\n",
              "      progress.max = size;\n",
              "      div.appendChild(progress);\n",
              "      document.body.appendChild(div);\n",
              "\n",
              "      const buffers = [];\n",
              "      let downloaded = 0;\n",
              "\n",
              "      const channel = await google.colab.kernel.comms.open(id);\n",
              "      // Send a message to notify the kernel that we're ready.\n",
              "      channel.send({})\n",
              "\n",
              "      for await (const message of channel.messages) {\n",
              "        // Send a message to notify the kernel that we're ready.\n",
              "        channel.send({})\n",
              "        if (message.buffers) {\n",
              "          for (const buffer of message.buffers) {\n",
              "            buffers.push(buffer);\n",
              "            downloaded += buffer.byteLength;\n",
              "            progress.value = downloaded;\n",
              "          }\n",
              "        }\n",
              "      }\n",
              "      const blob = new Blob(buffers, {type: 'application/binary'});\n",
              "      const a = document.createElement('a');\n",
              "      a.href = window.URL.createObjectURL(blob);\n",
              "      a.download = filename;\n",
              "      div.appendChild(a);\n",
              "      a.click();\n",
              "      div.remove();\n",
              "    }\n",
              "  "
            ],
            "text/plain": [
              "<IPython.core.display.Javascript object>"
            ]
          },
          "metadata": {
            "tags": []
          }
        },
        {
          "output_type": "display_data",
          "data": {
            "application/javascript": [
              "download(\"download_2339f006-ff45-4ffa-88f6-698ffc68ba72\", \"plot0.png\", 84482)"
            ],
            "text/plain": [
              "<IPython.core.display.Javascript object>"
            ]
          },
          "metadata": {
            "tags": []
          }
        },
        {
          "output_type": "display_data",
          "data": {
            "image/png": "[encoded data removed]",
            "text/plain": [
              "<Figure size 432x288 with 1 Axes>"
            ]
          },
          "metadata": {
            "tags": [],
            "needs_background": "light"
          }
        }
      ]
    },
    {
      "cell_type": "code",
      "metadata": {
        "id": "CYGr7f0ExUXz",
        "colab": {
          "base_uri": "https://localhost:8080/",
          "height": 286
        },
        "outputId": "dea5a08f-9071-4ff1-f3a0-158278b51f5a"
      },
      "source": [
        "# importing matplotlib modules\n",
        "import matplotlib.image as mpimg\n",
        "  \n",
        "# Read Images\n",
        "img = mpimg.imread('plot0.png')\n",
        "  \n",
        "# Output Images\n",
        "plt.imshow(img)"
      ],
      "execution_count": null,
      "outputs": [
        {
          "output_type": "execute_result",
          "data": {
            "text/plain": [
              "<matplotlib.image.AxesImage at 0x7f4e16a1c3d0>"
            ]
          },
          "metadata": {
            "tags": []
          },
          "execution_count": 32
        },
        {
          "output_type": "display_data",
          "data": {
            "image/png": "[encoded data removed]",
            "text/plain": [
              "<Figure size 432x288 with 1 Axes>"
            ]
          },
          "metadata": {
            "tags": [],
            "needs_background": "light"
          }
        }
      ]
    }
  ]
}